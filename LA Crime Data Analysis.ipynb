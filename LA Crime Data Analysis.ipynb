{
 "cells": [
  {
   "cell_type": "markdown",
   "metadata": {},
   "source": [
    "This is an analysis of Los Angeles Crime Data. \n",
    "\n",
    "Dataset source:\n",
    "https://data.lacity.org/A-Safe-City/Crime-Data-from-2010-to-Present/y8tr-7khq\n",
    "\n",
    "Hope to show some insights from the data including:\n",
    "\n",
    "    -What type of crime is most prevalent?\n",
    "    -What type of crime is least prevalent?\n",
    "    -Where was there more crime?\n",
    "    -Where was there less crime?\n",
    "    -Where did most batteries occured? Show\n",
    "    -When did crimes occured? Show\n",
    "    -Is crime increasing or decreasing in time? Show"
   ]
  },
  {
   "cell_type": "code",
   "execution_count": 109,
   "metadata": {},
   "outputs": [],
   "source": [
    "import pandas as pd\n",
    "import folium\n",
    "import matplotlib.pyplot as plt\n",
    "import seaborn as sns\n",
    "import plotly.plotly as py\n",
    "\n",
    "from folium.plugins import MarkerCluster\n",
    "from IPython.display import Image\n",
    "from IPython.core.display import HTML \n",
    "\n",
    "%matplotlib inline"
   ]
  },
  {
   "cell_type": "code",
   "execution_count": 2,
   "metadata": {},
   "outputs": [],
   "source": [
    "csv = '/Users/nonoumasy/Downloads/data/LA_Crime_Data_from_2010_to_Present.csv'\n",
    "df = pd.read_csv(csv)"
   ]
  },
  {
   "cell_type": "code",
   "execution_count": null,
   "metadata": {},
   "outputs": [],
   "source": [
    "#clean the data\n",
    "df = df[['Date Occurred','Time Occurred', 'Area Name', 'Crime Code',\n",
    "         'Crime Code Description','Weapon Description', 'Address',\n",
    "        'Location ']]\n",
    "\n",
    "df.columns = df.columns.str.replace(' ', '_')  #replace blankspace with underscore\n",
    "\n",
    "df.columns = df.columns.str.lower()  #changes column names to lowercase"
   ]
  },
  {
   "cell_type": "code",
   "execution_count": 6,
   "metadata": {},
   "outputs": [
    {
     "data": {
      "text/html": [
       "<div>\n",
       "<style scoped>\n",
       "    .dataframe tbody tr th:only-of-type {\n",
       "        vertical-align: middle;\n",
       "    }\n",
       "\n",
       "    .dataframe tbody tr th {\n",
       "        vertical-align: top;\n",
       "    }\n",
       "\n",
       "    .dataframe thead th {\n",
       "        text-align: right;\n",
       "    }\n",
       "</style>\n",
       "<table border=\"1\" class=\"dataframe\">\n",
       "  <thead>\n",
       "    <tr style=\"text-align: right;\">\n",
       "      <th></th>\n",
       "      <th>date_occurred</th>\n",
       "      <th>time_occurred</th>\n",
       "      <th>area_name</th>\n",
       "      <th>crime_code</th>\n",
       "      <th>crime_code_description</th>\n",
       "      <th>weapon_description</th>\n",
       "      <th>address</th>\n",
       "      <th>location_</th>\n",
       "    </tr>\n",
       "  </thead>\n",
       "  <tbody>\n",
       "    <tr>\n",
       "      <th>0</th>\n",
       "      <td>01/16/2015</td>\n",
       "      <td>2130</td>\n",
       "      <td>Van Nuys</td>\n",
       "      <td>510</td>\n",
       "      <td>VEHICLE - STOLEN</td>\n",
       "      <td>NaN</td>\n",
       "      <td>6200    FULTON                       AV</td>\n",
       "      <td>(34.1814, -118.4263)</td>\n",
       "    </tr>\n",
       "    <tr>\n",
       "      <th>1</th>\n",
       "      <td>01/01/2015</td>\n",
       "      <td>230</td>\n",
       "      <td>Southeast</td>\n",
       "      <td>626</td>\n",
       "      <td>INTIMATE PARTNER - SIMPLE ASSAULT</td>\n",
       "      <td>STRONG-ARM (HANDS, FIST, FEET OR BODILY FORCE)</td>\n",
       "      <td>200 E  97TH                         ST</td>\n",
       "      <td>(33.9483, -118.2717)</td>\n",
       "    </tr>\n",
       "    <tr>\n",
       "      <th>2</th>\n",
       "      <td>10/01/2015</td>\n",
       "      <td>800</td>\n",
       "      <td>77th Street</td>\n",
       "      <td>805</td>\n",
       "      <td>PIMPING</td>\n",
       "      <td>NaN</td>\n",
       "      <td>FIGUEROA                     ST</td>\n",
       "      <td>(33.9807, -118.2827)</td>\n",
       "    </tr>\n",
       "    <tr>\n",
       "      <th>3</th>\n",
       "      <td>01/01/2015</td>\n",
       "      <td>40</td>\n",
       "      <td>Central</td>\n",
       "      <td>745</td>\n",
       "      <td>VANDALISM - MISDEAMEANOR ($399 OR UNDER)</td>\n",
       "      <td>NaN</td>\n",
       "      <td>HILL                         ST</td>\n",
       "      <td>(34.0591, -118.2412)</td>\n",
       "    </tr>\n",
       "    <tr>\n",
       "      <th>4</th>\n",
       "      <td>01/01/2015</td>\n",
       "      <td>240</td>\n",
       "      <td>Central</td>\n",
       "      <td>626</td>\n",
       "      <td>INTIMATE PARTNER - SIMPLE ASSAULT</td>\n",
       "      <td>STRONG-ARM (HANDS, FIST, FEET OR BODILY FORCE)</td>\n",
       "      <td>500 W  7TH                          ST</td>\n",
       "      <td>(34.0467, -118.2556)</td>\n",
       "    </tr>\n",
       "  </tbody>\n",
       "</table>\n",
       "</div>"
      ],
      "text/plain": [
       "  date_occurred  time_occurred    area_name  crime_code  \\\n",
       "0    01/16/2015           2130     Van Nuys         510   \n",
       "1    01/01/2015            230    Southeast         626   \n",
       "2    10/01/2015            800  77th Street         805   \n",
       "3    01/01/2015             40      Central         745   \n",
       "4    01/01/2015            240      Central         626   \n",
       "\n",
       "                     crime_code_description  \\\n",
       "0                          VEHICLE - STOLEN   \n",
       "1         INTIMATE PARTNER - SIMPLE ASSAULT   \n",
       "2                                   PIMPING   \n",
       "3  VANDALISM - MISDEAMEANOR ($399 OR UNDER)   \n",
       "4         INTIMATE PARTNER - SIMPLE ASSAULT   \n",
       "\n",
       "                               weapon_description  \\\n",
       "0                                             NaN   \n",
       "1  STRONG-ARM (HANDS, FIST, FEET OR BODILY FORCE)   \n",
       "2                                             NaN   \n",
       "3                                             NaN   \n",
       "4  STRONG-ARM (HANDS, FIST, FEET OR BODILY FORCE)   \n",
       "\n",
       "                                   address             location_  \n",
       "0  6200    FULTON                       AV  (34.1814, -118.4263)  \n",
       "1   200 E  97TH                         ST  (33.9483, -118.2717)  \n",
       "2          FIGUEROA                     ST  (33.9807, -118.2827)  \n",
       "3          HILL                         ST  (34.0591, -118.2412)  \n",
       "4   500 W  7TH                          ST  (34.0467, -118.2556)  "
      ]
     },
     "execution_count": 6,
     "metadata": {},
     "output_type": "execute_result"
    }
   ],
   "source": [
    "df.head()"
   ]
  },
  {
   "cell_type": "code",
   "execution_count": 36,
   "metadata": {},
   "outputs": [
    {
     "data": {
      "text/plain": [
       "BATTERY - SIMPLE ASSAULT              172969\n",
       "BURGLARY FROM VEHICLE                 146743\n",
       "VEHICLE - STOLEN                      145721\n",
       "BURGLARY                              135867\n",
       "THEFT PLAIN - PETTY ($950 & UNDER)    135333\n",
       "Name: crime_code_description, dtype: int64"
      ]
     },
     "execution_count": 36,
     "metadata": {},
     "output_type": "execute_result"
    }
   ],
   "source": [
    "#what type of crime is most prevalent?\n",
    "df.crime_code_description.value_counts()[:5]"
   ]
  },
  {
   "cell_type": "code",
   "execution_count": 38,
   "metadata": {},
   "outputs": [
    {
     "data": {
      "text/plain": [
       "TILL TAP - ATTEMPT                          3\n",
       "BLOCKING DOOR INDUCTION CENTER              3\n",
       "FIREARMS RESTRAINING ORDER (FIREARMS RO)    2\n",
       "TRAIN WRECKING                              2\n",
       "DRUNK ROLL - ATTEMPT                        1\n",
       "Name: crime_code_description, dtype: int64"
      ]
     },
     "execution_count": 38,
     "metadata": {},
     "output_type": "execute_result"
    }
   ],
   "source": [
    "#what type of crime is least prevalent?\n",
    "df.crime_code_description.value_counts()[-5:]"
   ]
  },
  {
   "cell_type": "code",
   "execution_count": 61,
   "metadata": {},
   "outputs": [
    {
     "data": {
      "text/plain": [
       "77th Street    131722\n",
       "Southwest      122674\n",
       "N Hollywood    103320\n",
       "Pacific        100906\n",
       "Southeast      100288\n",
       "Name: area_name, dtype: int64"
      ]
     },
     "execution_count": 61,
     "metadata": {},
     "output_type": "execute_result"
    }
   ],
   "source": [
    "#where was there most crime?\n",
    "df.area_name.value_counts()[:5]"
   ]
  },
  {
   "cell_type": "code",
   "execution_count": 62,
   "metadata": {},
   "outputs": [
    {
     "data": {
      "text/plain": [
       "Rampart       80521\n",
       "West LA       80127\n",
       "Wilshire      78481\n",
       "Foothill      72360\n",
       "Hollenbeck    70000\n",
       "Name: area_name, dtype: int64"
      ]
     },
     "execution_count": 62,
     "metadata": {},
     "output_type": "execute_result"
    }
   ],
   "source": [
    "#where was there least crime?\n",
    "df.area_name.value_counts()[-5:]"
   ]
  },
  {
   "cell_type": "code",
   "execution_count": 86,
   "metadata": {},
   "outputs": [
    {
     "data": {
      "text/html": [
       "<div style=\"width:100%;\"><div style=\"position:relative;width:100%;height:0;padding-bottom:60%;\"><iframe src=\"data:text/html;charset=utf-8;base64,PCFET0NUWVBFIGh0bWw+CjxoZWFkPiAgICAKICAgIDxtZXRhIGh0dHAtZXF1aXY9ImNvbnRlbnQtdHlwZSIgY29udGVudD0idGV4dC9odG1sOyBjaGFyc2V0PVVURi04IiAvPgogICAgPHNjcmlwdD5MX1BSRUZFUl9DQU5WQVM9ZmFsc2U7IExfTk9fVE9VQ0g9ZmFsc2U7IExfRElTQUJMRV8zRD1mYWxzZTs8L3NjcmlwdD4KICAgIDxzY3JpcHQgc3JjPSJodHRwczovL2Nkbi5qc2RlbGl2ci5uZXQvbnBtL2xlYWZsZXRAMS4zLjQvZGlzdC9sZWFmbGV0LmpzIj48L3NjcmlwdD4KICAgIDxzY3JpcHQgc3JjPSJodHRwczovL2FqYXguZ29vZ2xlYXBpcy5jb20vYWpheC9saWJzL2pxdWVyeS8xLjExLjEvanF1ZXJ5Lm1pbi5qcyI+PC9zY3JpcHQ+CiAgICA8c2NyaXB0IHNyYz0iaHR0cHM6Ly9tYXhjZG4uYm9vdHN0cmFwY2RuLmNvbS9ib290c3RyYXAvMy4yLjAvanMvYm9vdHN0cmFwLm1pbi5qcyI+PC9zY3JpcHQ+CiAgICA8c2NyaXB0IHNyYz0iaHR0cHM6Ly9jZG5qcy5jbG91ZGZsYXJlLmNvbS9hamF4L2xpYnMvTGVhZmxldC5hd2Vzb21lLW1hcmtlcnMvMi4wLjIvbGVhZmxldC5hd2Vzb21lLW1hcmtlcnMuanMiPjwvc2NyaXB0PgogICAgPGxpbmsgcmVsPSJzdHlsZXNoZWV0IiBocmVmPSJodHRwczovL2Nkbi5qc2RlbGl2ci5uZXQvbnBtL2xlYWZsZXRAMS4zLjQvZGlzdC9sZWFmbGV0LmNzcyIvPgogICAgPGxpbmsgcmVsPSJzdHlsZXNoZWV0IiBocmVmPSJodHRwczovL21heGNkbi5ib290c3RyYXBjZG4uY29tL2Jvb3RzdHJhcC8zLjIuMC9jc3MvYm9vdHN0cmFwLm1pbi5jc3MiLz4KICAgIDxsaW5rIHJlbD0ic3R5bGVzaGVldCIgaHJlZj0iaHR0cHM6Ly9tYXhjZG4uYm9vdHN0cmFwY2RuLmNvbS9ib290c3RyYXAvMy4yLjAvY3NzL2Jvb3RzdHJhcC10aGVtZS5taW4uY3NzIi8+CiAgICA8bGluayByZWw9InN0eWxlc2hlZXQiIGhyZWY9Imh0dHBzOi8vbWF4Y2RuLmJvb3RzdHJhcGNkbi5jb20vZm9udC1hd2Vzb21lLzQuNi4zL2Nzcy9mb250LWF3ZXNvbWUubWluLmNzcyIvPgogICAgPGxpbmsgcmVsPSJzdHlsZXNoZWV0IiBocmVmPSJodHRwczovL2NkbmpzLmNsb3VkZmxhcmUuY29tL2FqYXgvbGlicy9MZWFmbGV0LmF3ZXNvbWUtbWFya2Vycy8yLjAuMi9sZWFmbGV0LmF3ZXNvbWUtbWFya2Vycy5jc3MiLz4KICAgIDxsaW5rIHJlbD0ic3R5bGVzaGVldCIgaHJlZj0iaHR0cHM6Ly9yYXdjZG4uZ2l0aGFjay5jb20vcHl0aG9uLXZpc3VhbGl6YXRpb24vZm9saXVtL21hc3Rlci9mb2xpdW0vdGVtcGxhdGVzL2xlYWZsZXQuYXdlc29tZS5yb3RhdGUuY3NzIi8+CiAgICA8c3R5bGU+aHRtbCwgYm9keSB7d2lkdGg6IDEwMCU7aGVpZ2h0OiAxMDAlO21hcmdpbjogMDtwYWRkaW5nOiAwO308L3N0eWxlPgogICAgPHN0eWxlPiNtYXAge3Bvc2l0aW9uOmFic29sdXRlO3RvcDowO2JvdHRvbTowO3JpZ2h0OjA7bGVmdDowO308L3N0eWxlPgogICAgCiAgICA8bWV0YSBuYW1lPSJ2aWV3cG9ydCIgY29udGVudD0id2lkdGg9ZGV2aWNlLXdpZHRoLAogICAgICAgIGluaXRpYWwtc2NhbGU9MS4wLCBtYXhpbXVtLXNjYWxlPTEuMCwgdXNlci1zY2FsYWJsZT1ubyIgLz4KICAgIDxzdHlsZT4jbWFwXzI3ZWE3ZWMzMDhhNzQ5NGI5NGUwNjg0MmU2YjRlNDc5IHsKICAgICAgICBwb3NpdGlvbjogcmVsYXRpdmU7CiAgICAgICAgd2lkdGg6IDEwMC4wJTsKICAgICAgICBoZWlnaHQ6IDEwMC4wJTsKICAgICAgICBsZWZ0OiAwLjAlOwogICAgICAgIHRvcDogMC4wJTsKICAgICAgICB9CiAgICA8L3N0eWxlPgogICAgPHNjcmlwdCBzcmM9Imh0dHBzOi8vY2RuanMuY2xvdWRmbGFyZS5jb20vYWpheC9saWJzL2xlYWZsZXQubWFya2VyY2x1c3Rlci8xLjEuMC9sZWFmbGV0Lm1hcmtlcmNsdXN0ZXIuanMiPjwvc2NyaXB0PgogICAgPGxpbmsgcmVsPSJzdHlsZXNoZWV0IiBocmVmPSJodHRwczovL2NkbmpzLmNsb3VkZmxhcmUuY29tL2FqYXgvbGlicy9sZWFmbGV0Lm1hcmtlcmNsdXN0ZXIvMS4xLjAvTWFya2VyQ2x1c3Rlci5jc3MiLz4KICAgIDxsaW5rIHJlbD0ic3R5bGVzaGVldCIgaHJlZj0iaHR0cHM6Ly9jZG5qcy5jbG91ZGZsYXJlLmNvbS9hamF4L2xpYnMvbGVhZmxldC5tYXJrZXJjbHVzdGVyLzEuMS4wL01hcmtlckNsdXN0ZXIuRGVmYXVsdC5jc3MiLz4KPC9oZWFkPgo8Ym9keT4gICAgCiAgICAKICAgIDxkaXYgY2xhc3M9ImZvbGl1bS1tYXAiIGlkPSJtYXBfMjdlYTdlYzMwOGE3NDk0Yjk0ZTA2ODQyZTZiNGU0NzkiID48L2Rpdj4KPC9ib2R5Pgo8c2NyaXB0PiAgICAKICAgIAogICAgCiAgICAgICAgdmFyIGJvdW5kcyA9IG51bGw7CiAgICAKCiAgICB2YXIgbWFwXzI3ZWE3ZWMzMDhhNzQ5NGI5NGUwNjg0MmU2YjRlNDc5ID0gTC5tYXAoCiAgICAgICAgJ21hcF8yN2VhN2VjMzA4YTc0OTRiOTRlMDY4NDJlNmI0ZTQ3OScsIHsKICAgICAgICBjZW50ZXI6IFszNCwgLTExOC4zXSwKICAgICAgICB6b29tOiAxMSwKICAgICAgICBtYXhCb3VuZHM6IGJvdW5kcywKICAgICAgICBsYXllcnM6IFtdLAogICAgICAgIHdvcmxkQ29weUp1bXA6IGZhbHNlLAogICAgICAgIGNyczogTC5DUlMuRVBTRzM4NTcsCiAgICAgICAgem9vbUNvbnRyb2w6IHRydWUsCiAgICAgICAgfSk7CgogICAgCiAgICAKICAgIHZhciB0aWxlX2xheWVyX2Q1ZmQxMWIxYzY5MzQ3MzQ4ZmM4MzUxNzRiNmFhMWU2ID0gTC50aWxlTGF5ZXIoCiAgICAgICAgJ2h0dHBzOi8vc3RhbWVuLXRpbGVzLXtzfS5hLnNzbC5mYXN0bHkubmV0L3RvbmVyL3t6fS97eH0ve3l9LnBuZycsCiAgICAgICAgewogICAgICAgICJhdHRyaWJ1dGlvbiI6IG51bGwsCiAgICAgICAgImRldGVjdFJldGluYSI6IGZhbHNlLAogICAgICAgICJtYXhOYXRpdmVab29tIjogMTgsCiAgICAgICAgIm1heFpvb20iOiAxOCwKICAgICAgICAibWluWm9vbSI6IDAsCiAgICAgICAgIm5vV3JhcCI6IGZhbHNlLAogICAgICAgICJvcGFjaXR5IjogMSwKICAgICAgICAic3ViZG9tYWlucyI6ICJhYmMiLAogICAgICAgICJ0bXMiOiBmYWxzZQp9KS5hZGRUbyhtYXBfMjdlYTdlYzMwOGE3NDk0Yjk0ZTA2ODQyZTZiNGU0NzkpOwogICAgCiAgICAgICAgICAgIHZhciBtYXJrZXJfY2x1c3Rlcl8zOTJiYTYzODczZTg0YzRkOTQyMGZlMjgwOWJlNTMzZCA9IEwubWFya2VyQ2x1c3Rlckdyb3VwKHt9KTsKICAgICAgICAgICAgbWFwXzI3ZWE3ZWMzMDhhNzQ5NGI5NGUwNjg0MmU2YjRlNDc5LmFkZExheWVyKG1hcmtlcl9jbHVzdGVyXzM5MmJhNjM4NzNlODRjNGQ5NDIwZmUyODA5YmU1MzNkKTsKICAgICAgICAgICAgCiAgICAKICAgICAgICB2YXIgbWFya2VyXzAyN2MzZTc0ZTEzMDQxNDlhNDhmNDNjNGNjZjYyOTk5ID0gTC5tYXJrZXIoCiAgICAgICAgICAgIFszNCwgLTExOF0sCiAgICAgICAgICAgIHsKICAgICAgICAgICAgICAgIGljb246IG5ldyBMLkljb24uRGVmYXVsdCgpCiAgICAgICAgICAgICAgICB9CiAgICAgICAgICAgICkuYWRkVG8obWFya2VyX2NsdXN0ZXJfMzkyYmE2Mzg3M2U4NGM0ZDk0MjBmZTI4MDliZTUzM2QpOwogICAgICAgIAogICAgCiAgICAgICAgICAgIHZhciBwb3B1cF8yMDZkMzkyZmY1MGM0NjY4OTg5ZGJiNTM4ZmU3YjJiYiA9IEwucG9wdXAoe21heFdpZHRoOiAnMzAwJwogICAgICAgICAgICAKICAgICAgICAgICAgfSk7CgogICAgICAgICAgICAKICAgICAgICAgICAgICAgIHZhciBodG1sXzBiYTI5MDBhNWE4ZjQ4MWFhNzgwZTM1M2UwNDAwYTdmID0gJChgPGRpdiBpZD0iaHRtbF8wYmEyOTAwYTVhOGY0ODFhYTc4MGUzNTNlMDQwMGE3ZiIgc3R5bGU9IndpZHRoOiAxMDAuMCU7IGhlaWdodDogMTAwLjAlOyI+QWRkIHBvcHVwIHRleHQgaGVyZS48L2Rpdj5gKVswXTsKICAgICAgICAgICAgICAgIHBvcHVwXzIwNmQzOTJmZjUwYzQ2Njg5ODlkYmI1MzhmZTdiMmJiLnNldENvbnRlbnQoaHRtbF8wYmEyOTAwYTVhOGY0ODFhYTc4MGUzNTNlMDQwMGE3Zik7CiAgICAgICAgICAgIAoKICAgICAgICAgICAgbWFya2VyXzAyN2MzZTc0ZTEzMDQxNDlhNDhmNDNjNGNjZjYyOTk5LmJpbmRQb3B1cChwb3B1cF8yMDZkMzkyZmY1MGM0NjY4OTg5ZGJiNTM4ZmU3YjJiYikKICAgICAgICAgICAgOwoKICAgICAgICAgICAgCiAgICAgICAgCiAgICAKICAgICAgICB2YXIgbWFya2VyX2I3NzRlMjgwMjZkYjRiNWY5ZjhkYjZlZjZiN2ZkODhlID0gTC5tYXJrZXIoCiAgICAgICAgICAgIFszNCwgLTExOC4xXSwKICAgICAgICAgICAgewogICAgICAgICAgICAgICAgaWNvbjogbmV3IEwuSWNvbi5EZWZhdWx0KCkKICAgICAgICAgICAgICAgIH0KICAgICAgICAgICAgKS5hZGRUbyhtYXJrZXJfY2x1c3Rlcl8zOTJiYTYzODczZTg0YzRkOTQyMGZlMjgwOWJlNTMzZCk7CiAgICAgICAgCiAgICAKICAgICAgICAgICAgdmFyIHBvcHVwX2RlOTM2NDVhMGY1ZDQ5MTVhN2VhMmEyY2MwN2ExYTJhID0gTC5wb3B1cCh7bWF4V2lkdGg6ICczMDAnCiAgICAgICAgICAgIAogICAgICAgICAgICB9KTsKCiAgICAgICAgICAgIAogICAgICAgICAgICAgICAgdmFyIGh0bWxfZmJmMzIxY2RkMDM2NDBlMzg1MDNjOGFmMmI1MjAzZGIgPSAkKGA8ZGl2IGlkPSJodG1sX2ZiZjMyMWNkZDAzNjQwZTM4NTAzYzhhZjJiNTIwM2RiIiBzdHlsZT0id2lkdGg6IDEwMC4wJTsgaGVpZ2h0OiAxMDAuMCU7Ij5BZGQgcG9wdXAgdGV4dCBoZXJlLjwvZGl2PmApWzBdOwogICAgICAgICAgICAgICAgcG9wdXBfZGU5MzY0NWEwZjVkNDkxNWE3ZWEyYTJjYzA3YTFhMmEuc2V0Q29udGVudChodG1sX2ZiZjMyMWNkZDAzNjQwZTM4NTAzYzhhZjJiNTIwM2RiKTsKICAgICAgICAgICAgCgogICAgICAgICAgICBtYXJrZXJfYjc3NGUyODAyNmRiNGI1ZjlmOGRiNmVmNmI3ZmQ4OGUuYmluZFBvcHVwKHBvcHVwX2RlOTM2NDVhMGY1ZDQ5MTVhN2VhMmEyY2MwN2ExYTJhKQogICAgICAgICAgICA7CgogICAgICAgICAgICAKICAgICAgICAKICAgIAogICAgICAgIHZhciBtYXJrZXJfMjQ2NTc2ZGQ3N2ViNGNmYjlkMmZhOWY0ZDQyNjBhNGMgPSBMLm1hcmtlcigKICAgICAgICAgICAgWzM0LCAtMTE4LjJdLAogICAgICAgICAgICB7CiAgICAgICAgICAgICAgICBpY29uOiBuZXcgTC5JY29uLkRlZmF1bHQoKQogICAgICAgICAgICAgICAgfQogICAgICAgICAgICApLmFkZFRvKG1hcmtlcl9jbHVzdGVyXzM5MmJhNjM4NzNlODRjNGQ5NDIwZmUyODA5YmU1MzNkKTsKICAgICAgICAKICAgIAogICAgICAgICAgICB2YXIgcG9wdXBfNDBiNGU0NmMwYTdmNDQ2NWJhNzI4MzA0NTI0YzZhNmMgPSBMLnBvcHVwKHttYXhXaWR0aDogJzMwMCcKICAgICAgICAgICAgCiAgICAgICAgICAgIH0pOwoKICAgICAgICAgICAgCiAgICAgICAgICAgICAgICB2YXIgaHRtbF9hZjhjZmZkZDc5ZTk0ZTE0OTEwM2E1ZWRjMWY1OTcxNCA9ICQoYDxkaXYgaWQ9Imh0bWxfYWY4Y2ZmZGQ3OWU5NGUxNDkxMDNhNWVkYzFmNTk3MTQiIHN0eWxlPSJ3aWR0aDogMTAwLjAlOyBoZWlnaHQ6IDEwMC4wJTsiPkFkZCBwb3B1cCB0ZXh0IGhlcmUuPC9kaXY+YClbMF07CiAgICAgICAgICAgICAgICBwb3B1cF80MGI0ZTQ2YzBhN2Y0NDY1YmE3MjgzMDQ1MjRjNmE2Yy5zZXRDb250ZW50KGh0bWxfYWY4Y2ZmZGQ3OWU5NGUxNDkxMDNhNWVkYzFmNTk3MTQpOwogICAgICAgICAgICAKCiAgICAgICAgICAgIG1hcmtlcl8yNDY1NzZkZDc3ZWI0Y2ZiOWQyZmE5ZjRkNDI2MGE0Yy5iaW5kUG9wdXAocG9wdXBfNDBiNGU0NmMwYTdmNDQ2NWJhNzI4MzA0NTI0YzZhNmMpCiAgICAgICAgICAgIDsKCiAgICAgICAgICAgIAogICAgICAgIAo8L3NjcmlwdD4=\" style=\"position:absolute;width:100%;height:100%;left:0;top:0;border:none !important;\" allowfullscreen webkitallowfullscreen mozallowfullscreen></iframe></div></div>"
      ],
      "text/plain": [
       "<folium.folium.Map at 0x1a4001d3c8>"
      ]
     },
     "execution_count": 86,
     "metadata": {},
     "output_type": "execute_result"
    }
   ],
   "source": [
    "#map of crime in LA\n",
    "m = folium.Map([34,-118.3], tiles='Stamen Toner', zoom_start=11)\n",
    "\n",
    "marker_cluster = MarkerCluster().add_to(m)\n",
    "\n",
    "folium.Marker(\n",
    "    location=[34, -118],\n",
    "    popup='Add popup text here.',\n",
    ").add_to(marker_cluster)\n",
    "\n",
    "folium.Marker(\n",
    "    location=[34, -118.1],\n",
    "    popup='Add popup text here.',\n",
    ").add_to(marker_cluster)\n",
    "\n",
    "folium.Marker(\n",
    "    location=[34, -118.2],\n",
    "    popup='Add popup text here.',\n",
    ").add_to(marker_cluster)\n",
    "\n",
    "m"
   ]
  },
  {
   "cell_type": "code",
   "execution_count": 102,
   "metadata": {},
   "outputs": [
    {
     "data": {
      "text/plain": [
       "77th Street    13978\n",
       "Central        12978\n",
       "Southwest      12957\n",
       "Southeast      10503\n",
       "Olympic        10006\n",
       "Hollywood       9520\n",
       "Newton          9043\n",
       "Rampart         8593\n",
       "Mission         8244\n",
       "N Hollywood     7728\n",
       "Pacific         7457\n",
       "Hollenbeck      7316\n",
       "Van Nuys        6741\n",
       "Northeast       6697\n",
       "Wilshire        6342\n",
       "Harbor          6315\n",
       "Topanga         6199\n",
       "West LA         6007\n",
       "Devonshire      5845\n",
       "West Valley     5405\n",
       "Foothill        5095\n",
       "Name: area_name, dtype: int64"
      ]
     },
     "execution_count": 102,
     "metadata": {},
     "output_type": "execute_result"
    }
   ],
   "source": [
    "#Where did most BATTERY - SIMPLE ASSAULT occured?\n",
    "df[df.crime_code_description == 'BATTERY - SIMPLE ASSAULT'].area_name.value_counts()[:]"
   ]
  },
  {
   "cell_type": "code",
   "execution_count": 103,
   "metadata": {},
   "outputs": [
    {
     "data": {
      "text/plain": [
       "N Hollywood    11197\n",
       "Hollywood       8704\n",
       "Pacific         8546\n",
       "Van Nuys        8112\n",
       "West LA         8028\n",
       "Devonshire      7934\n",
       "Northeast       7903\n",
       "Southwest       7383\n",
       "Olympic         7371\n",
       "Wilshire        7103\n",
       "77th Street     6932\n",
       "Mission         6904\n",
       "West Valley     6629\n",
       "Central         6593\n",
       "Newton          6496\n",
       "Topanga         6110\n",
       "Rampart         5884\n",
       "Harbor          5274\n",
       "Southeast       4773\n",
       "Foothill        4698\n",
       "Hollenbeck      4169\n",
       "Name: area_name, dtype: int64"
      ]
     },
     "execution_count": 103,
     "metadata": {},
     "output_type": "execute_result"
    }
   ],
   "source": [
    "df[df.crime_code_description == 'BURGLARY FROM VEHICLE'].area_name.value_counts()[:]"
   ]
  },
  {
   "cell_type": "code",
   "execution_count": 110,
   "metadata": {},
   "outputs": [
    {
     "data": {
      "text/plain": [
       "Pacific        9347\n",
       "Devonshire     8995\n",
       "77th Street    8982\n",
       "West LA        8533\n",
       "West Valley    8256\n",
       "Southwest      7913\n",
       "Topanga        7771\n",
       "Wilshire       7615\n",
       "Southeast      7593\n",
       "N Hollywood    7176\n",
       "Harbor         6623\n",
       "Northeast      6550\n",
       "Van Nuys       6017\n",
       "Mission        5990\n",
       "Foothill       5277\n",
       "Olympic        5113\n",
       "Newton         4554\n",
       "Hollywood      4197\n",
       "Rampart        3540\n",
       "Hollenbeck     3348\n",
       "Central        2477\n",
       "Name: area_name, dtype: int64"
      ]
     },
     "execution_count": 110,
     "metadata": {},
     "output_type": "execute_result"
    }
   ],
   "source": [
    "df[df.crime_code_description == 'BURGLARY'].area_name.value_counts()[:]"
   ]
  },
  {
   "cell_type": "markdown",
   "metadata": {},
   "source": [
    "#map of LAPD Divisional Map\n",
    "![Image of Yaktocat](http://www.lapdwilshire.com/uploads/3/0/7/1/30711601/6222770.jpg?816)"
   ]
  },
  {
   "cell_type": "markdown",
   "metadata": {},
   "source": []
  },
  {
   "cell_type": "code",
   "execution_count": null,
   "metadata": {},
   "outputs": [],
   "source": []
  }
 ],
 "metadata": {
  "kernelspec": {
   "display_name": "Python 3",
   "language": "python",
   "name": "python3"
  },
  "language_info": {
   "codemirror_mode": {
    "name": "ipython",
    "version": 3
   },
   "file_extension": ".py",
   "mimetype": "text/x-python",
   "name": "python",
   "nbconvert_exporter": "python",
   "pygments_lexer": "ipython3",
   "version": "3.6.6"
  },
  "toc": {
   "base_numbering": 1,
   "nav_menu": {},
   "number_sections": true,
   "sideBar": true,
   "skip_h1_title": false,
   "title_cell": "Table of Contents",
   "title_sidebar": "Contents",
   "toc_cell": false,
   "toc_position": {},
   "toc_section_display": true,
   "toc_window_display": false
  }
 },
 "nbformat": 4,
 "nbformat_minor": 2
}
