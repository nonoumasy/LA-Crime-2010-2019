{
 "cells": [
  {
   "cell_type": "markdown",
   "metadata": {},
   "source": [
    "This is an analysis of Los Angeles Crime Data. \n",
    "Dataset source:\n",
    "https://data.lacity.org/A-Safe-City/Crime-Data-from-2010-to-Present/y8tr-7khq\n",
    "\n",
    "We hope to show some insights from the data including:\n",
    "\n",
    "    -What type of crime is most/least prevalent?\n",
    "    -Where was there more crime?\n",
    "    -Where was there less crime?\n",
    "    -Where did most batteries occured? Show\n",
    "    -When did crimes occured? Show\n",
    "    -Is crime increasing or decreasing in time? Show"
   ]
  },
  {
   "cell_type": "code",
   "execution_count": 1,
   "metadata": {},
   "outputs": [],
   "source": [
    "import pandas as pd\n",
    "import folium\n",
    "import matplotlib.pyplot as plt\n",
    "%matplotlib inline\n",
    "import seaborn as sns\n",
    "import plotly.plotly as py"
   ]
  },
  {
   "cell_type": "code",
   "execution_count": 2,
   "metadata": {},
   "outputs": [],
   "source": [
    "csv = '/Users/nonoumasy/Downloads/data/LA_Crime_Data_from_2010_to_Present.csv'\n",
    "df = pd.read_csv(csv)"
   ]
  },
  {
   "cell_type": "code",
   "execution_count": 7,
   "metadata": {},
   "outputs": [],
   "source": [
    "#df.columns\n",
    "#crime_count = df.crime_code_description.value_counts()\n",
    "#df.columns = df.columns.str.lower()  #changes column names to lowercase\n",
    "#df.columns = df.columns.str.replace(' ', '_')  #replace blankspace with underscore\n",
    "#df.column.value_counts().plot()  #plot value counts for each column\n",
    "#df.rename(columns={})  #rename Pandas column\n",
    "#df = df[['Date Occurred','Time Occurred', 'Area Name', 'Crime Code', 'Crime Code Description', 'Weapon Description', 'Address', 'Location ', ]]  #tranform df to only these columns\n",
    "#df.drop(['B', 'C'], axis=1)  #Drop specified labels from rows or columns\n",
    "#df.fillna()  #replaces missing values with a value\n",
    "#df[[ 'col1’, 'col2’]] = df.column.str.split(' ' , expand=True) #df.loc[row_selector, col_selector]\n",
    "#df.loc[ rows, column] - selecting things by labels\n",
    "#df.groupby(['col1', 'col2']).mean()\n",
    "#df[df['country'] == 'Sweden' ]  #filter columns\n",
    "#df[df.country.isin(['Denmark'])]  #filter columns\n",
    "#df[(df.col1 == 'str') & (df.col2 <= int)]\n"
   ]
  },
  {
   "cell_type": "code",
   "execution_count": 6,
   "metadata": {},
   "outputs": [
    {
     "data": {
      "text/html": [
       "<div>\n",
       "<style scoped>\n",
       "    .dataframe tbody tr th:only-of-type {\n",
       "        vertical-align: middle;\n",
       "    }\n",
       "\n",
       "    .dataframe tbody tr th {\n",
       "        vertical-align: top;\n",
       "    }\n",
       "\n",
       "    .dataframe thead th {\n",
       "        text-align: right;\n",
       "    }\n",
       "</style>\n",
       "<table border=\"1\" class=\"dataframe\">\n",
       "  <thead>\n",
       "    <tr style=\"text-align: right;\">\n",
       "      <th></th>\n",
       "      <th>date_occurred</th>\n",
       "      <th>time_occurred</th>\n",
       "      <th>area_name</th>\n",
       "      <th>crime_code</th>\n",
       "      <th>crime_code_description</th>\n",
       "      <th>weapon_description</th>\n",
       "      <th>address</th>\n",
       "      <th>location_</th>\n",
       "    </tr>\n",
       "  </thead>\n",
       "  <tbody>\n",
       "    <tr>\n",
       "      <th>0</th>\n",
       "      <td>01/16/2015</td>\n",
       "      <td>2130</td>\n",
       "      <td>Van Nuys</td>\n",
       "      <td>510</td>\n",
       "      <td>VEHICLE - STOLEN</td>\n",
       "      <td>NaN</td>\n",
       "      <td>6200    FULTON                       AV</td>\n",
       "      <td>(34.1814, -118.4263)</td>\n",
       "    </tr>\n",
       "    <tr>\n",
       "      <th>1</th>\n",
       "      <td>01/01/2015</td>\n",
       "      <td>230</td>\n",
       "      <td>Southeast</td>\n",
       "      <td>626</td>\n",
       "      <td>INTIMATE PARTNER - SIMPLE ASSAULT</td>\n",
       "      <td>STRONG-ARM (HANDS, FIST, FEET OR BODILY FORCE)</td>\n",
       "      <td>200 E  97TH                         ST</td>\n",
       "      <td>(33.9483, -118.2717)</td>\n",
       "    </tr>\n",
       "    <tr>\n",
       "      <th>2</th>\n",
       "      <td>10/01/2015</td>\n",
       "      <td>800</td>\n",
       "      <td>77th Street</td>\n",
       "      <td>805</td>\n",
       "      <td>PIMPING</td>\n",
       "      <td>NaN</td>\n",
       "      <td>FIGUEROA                     ST</td>\n",
       "      <td>(33.9807, -118.2827)</td>\n",
       "    </tr>\n",
       "    <tr>\n",
       "      <th>3</th>\n",
       "      <td>01/01/2015</td>\n",
       "      <td>40</td>\n",
       "      <td>Central</td>\n",
       "      <td>745</td>\n",
       "      <td>VANDALISM - MISDEAMEANOR ($399 OR UNDER)</td>\n",
       "      <td>NaN</td>\n",
       "      <td>HILL                         ST</td>\n",
       "      <td>(34.0591, -118.2412)</td>\n",
       "    </tr>\n",
       "    <tr>\n",
       "      <th>4</th>\n",
       "      <td>01/01/2015</td>\n",
       "      <td>240</td>\n",
       "      <td>Central</td>\n",
       "      <td>626</td>\n",
       "      <td>INTIMATE PARTNER - SIMPLE ASSAULT</td>\n",
       "      <td>STRONG-ARM (HANDS, FIST, FEET OR BODILY FORCE)</td>\n",
       "      <td>500 W  7TH                          ST</td>\n",
       "      <td>(34.0467, -118.2556)</td>\n",
       "    </tr>\n",
       "  </tbody>\n",
       "</table>\n",
       "</div>"
      ],
      "text/plain": [
       "  date_occurred  time_occurred    area_name  crime_code  \\\n",
       "0    01/16/2015           2130     Van Nuys         510   \n",
       "1    01/01/2015            230    Southeast         626   \n",
       "2    10/01/2015            800  77th Street         805   \n",
       "3    01/01/2015             40      Central         745   \n",
       "4    01/01/2015            240      Central         626   \n",
       "\n",
       "                     crime_code_description  \\\n",
       "0                          VEHICLE - STOLEN   \n",
       "1         INTIMATE PARTNER - SIMPLE ASSAULT   \n",
       "2                                   PIMPING   \n",
       "3  VANDALISM - MISDEAMEANOR ($399 OR UNDER)   \n",
       "4         INTIMATE PARTNER - SIMPLE ASSAULT   \n",
       "\n",
       "                               weapon_description  \\\n",
       "0                                             NaN   \n",
       "1  STRONG-ARM (HANDS, FIST, FEET OR BODILY FORCE)   \n",
       "2                                             NaN   \n",
       "3                                             NaN   \n",
       "4  STRONG-ARM (HANDS, FIST, FEET OR BODILY FORCE)   \n",
       "\n",
       "                                   address             location_  \n",
       "0  6200    FULTON                       AV  (34.1814, -118.4263)  \n",
       "1   200 E  97TH                         ST  (33.9483, -118.2717)  \n",
       "2          FIGUEROA                     ST  (33.9807, -118.2827)  \n",
       "3          HILL                         ST  (34.0591, -118.2412)  \n",
       "4   500 W  7TH                          ST  (34.0467, -118.2556)  "
      ]
     },
     "execution_count": 6,
     "metadata": {},
     "output_type": "execute_result"
    }
   ],
   "source": [
    "df.head()"
   ]
  },
  {
   "cell_type": "code",
   "execution_count": 97,
   "metadata": {},
   "outputs": [],
   "source": [
    "#df.shape\n",
    "#df.describe\n",
    "#str.strip  #strips space from a string\n",
    "#df.dtypes  #Return the dtypes in the DataFrame\n",
    "#df.dtypes.sort_values()   #sort the dtypes\n",
    "#df.info  #summary of a DataFrame\n",
    "#df.isnull().sum()  #count of all missing data values by columns\n",
    "#df.isnull().sum().sum()  #total missing values\n",
    "#df.columns"
   ]
  },
  {
   "cell_type": "code",
   "execution_count": 17,
   "metadata": {},
   "outputs": [
    {
     "data": {
      "text/plain": [
       "BATTERY - SIMPLE ASSAULT                                    172969\n",
       "BURGLARY FROM VEHICLE                                       146743\n",
       "VEHICLE - STOLEN                                            145721\n",
       "BURGLARY                                                    135867\n",
       "THEFT PLAIN - PETTY ($950 & UNDER)                          135333\n",
       "THEFT OF IDENTITY                                           116833\n",
       "INTIMATE PARTNER - SIMPLE ASSAULT                           103228\n",
       "VANDALISM - FELONY ($400 & OVER, ALL CHURCH VANDALISMS)      97508\n",
       "VANDALISM - MISDEAMEANOR ($399 OR UNDER)                     83384\n",
       "ASSAULT WITH DEADLY WEAPON, AGGRAVATED ASSAULT               82579\n",
       "THEFT FROM MOTOR VEHICLE - PETTY ($950 & UNDER)              78948\n",
       "ROBBERY                                                      76060\n",
       "THEFT-GRAND ($950.01 & OVER)EXCPT,GUNS,FOWL,LIVESTK,PROD     66994\n",
       "CRIMINAL THREATS - NO WEAPON DISPLAYED                       51944\n",
       "SHOPLIFTING - PETTY THEFT ($950 & UNDER)                     43151\n",
       "THEFT FROM MOTOR VEHICLE - GRAND ($400 AND OVER)             28000\n",
       "DOCUMENT FORGERY / STOLEN FELONY                             21313\n",
       "LETTERS, LEWD  -  TELEPHONE CALLS, LEWD                      19169\n",
       "OTHER MISCELLANEOUS CRIME                                    19036\n",
       "TRESPASSING                                                  18702\n",
       "VIOLATION OF COURT ORDER                                     18441\n",
       "VIOLATION OF RESTRAINING ORDER                               16922\n",
       "THEFT, PERSON                                                13145\n",
       "BRANDISH WEAPON                                              12759\n",
       "INTIMATE PARTNER - AGGRAVATED ASSAULT                        12616\n",
       "BIKE - STOLEN                                                12079\n",
       "BURGLARY, ATTEMPTED                                          11584\n",
       "ATTEMPTED ROBBERY                                            10876\n",
       "BATTERY WITH SEXUAL CONTACT                                   9994\n",
       "RAPE, FORCIBLE                                                9111\n",
       "                                                             ...  \n",
       "CONSPIRACY                                                      53\n",
       "PURSE SNATCHING - ATTEMPT                                       44\n",
       "LYNCHING                                                        43\n",
       "THEFT, COIN MACHINE - GRAND ($950.01 & OVER)                    40\n",
       "DISRUPT SCHOOL                                                  40\n",
       "DRUGS, TO A MINOR                                               39\n",
       "TELEPHONE PROPERTY - DAMAGE                                     35\n",
       "BIKE - ATTEMPTED STOLEN                                         34\n",
       "DRUNK ROLL                                                      31\n",
       "BRIBERY                                                         30\n",
       "THEFT, COIN MACHINE - ATTEMPT                                   24\n",
       "REPLICA FIREARMS(SALE,DISPLAY,MANUFACTURE OR DISTRIBUTE)        23\n",
       "BEASTIALITY, CRIME AGAINST NATURE SEXUAL ASSLT WITH ANIM        23\n",
       "PETTY THEFT - AUTO REPAIR                                       22\n",
       "LYNCHING - ATTEMPTED                                            22\n",
       "FAILURE TO DISPERSE                                             20\n",
       "PICKPOCKET, ATTEMPT                                             20\n",
       "TILL TAP - GRAND THEFT ($950.01 & OVER)                         18\n",
       "GRAND THEFT / AUTO REPAIR                                       13\n",
       "INCITING A RIOT                                                 13\n",
       "BIGAMY                                                          11\n",
       "INCEST (SEXUAL ACTS BETWEEN BLOOD RELATIVES)                     9\n",
       "DISHONEST EMPLOYEE ATTEMPTED THEFT                               8\n",
       "ABORTION/ILLEGAL                                                 6\n",
       "MANSLAUGHTER, NEGLIGENT                                          5\n",
       "TILL TAP - ATTEMPT                                               3\n",
       "BLOCKING DOOR INDUCTION CENTER                                   3\n",
       "FIREARMS RESTRAINING ORDER (FIREARMS RO)                         2\n",
       "TRAIN WRECKING                                                   2\n",
       "DRUNK ROLL - ATTEMPT                                             1\n",
       "Name: crime_code_description, Length: 139, dtype: int64"
      ]
     },
     "execution_count": 17,
     "metadata": {},
     "output_type": "execute_result"
    }
   ],
   "source": [
    "#what type of crime is most/least prevalent?\n",
    "df.crime_code_description.value_counts()"
   ]
  },
  {
   "cell_type": "code",
   "execution_count": 32,
   "metadata": {},
   "outputs": [
    {
     "data": {
      "text/plain": [
       "77th Street    131722\n",
       "Southwest      122674\n",
       "N Hollywood    103320\n",
       "Pacific        100906\n",
       "Southeast      100288\n",
       "Name: area_name, dtype: int64"
      ]
     },
     "execution_count": 32,
     "metadata": {},
     "output_type": "execute_result"
    }
   ],
   "source": [
    "#which areas have more crime?\n",
    "df.area_name.value_counts()[:5]"
   ]
  },
  {
   "cell_type": "code",
   "execution_count": 27,
   "metadata": {},
   "outputs": [
    {
     "data": {
      "text/plain": [
       "Rampart       80521\n",
       "West LA       80127\n",
       "Wilshire      78481\n",
       "Foothill      72360\n",
       "Hollenbeck    70000\n",
       "Name: area_name, dtype: int64"
      ]
     },
     "execution_count": 27,
     "metadata": {},
     "output_type": "execute_result"
    }
   ],
   "source": [
    "#which areas have less crime?\n",
    "df.area_name.value_counts()[-5:]"
   ]
  },
  {
   "cell_type": "code",
   "execution_count": null,
   "metadata": {},
   "outputs": [],
   "source": []
  }
 ],
 "metadata": {
  "kernelspec": {
   "display_name": "Python 3",
   "language": "python",
   "name": "python3"
  },
  "language_info": {
   "codemirror_mode": {
    "name": "ipython",
    "version": 3
   },
   "file_extension": ".py",
   "mimetype": "text/x-python",
   "name": "python",
   "nbconvert_exporter": "python",
   "pygments_lexer": "ipython3",
   "version": "3.6.6"
  },
  "toc": {
   "base_numbering": 1,
   "nav_menu": {},
   "number_sections": true,
   "sideBar": true,
   "skip_h1_title": false,
   "title_cell": "Table of Contents",
   "title_sidebar": "Contents",
   "toc_cell": false,
   "toc_position": {},
   "toc_section_display": true,
   "toc_window_display": false
  }
 },
 "nbformat": 4,
 "nbformat_minor": 2
}
