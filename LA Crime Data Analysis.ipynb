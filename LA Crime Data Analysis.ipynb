{
 "cells": [
  {
   "cell_type": "markdown",
   "metadata": {},
   "source": [
    "This is an analysis of Los Angeles Crime Data. \n",
    "\n",
    "Dataset source:\n",
    "https://data.lacity.org/A-Safe-City/Crime-Data-from-2010-to-Present/y8tr-7khq\n",
    "\n",
    "We hope to show some insights from the data including:\n",
    "\n",
    "    -What type of crime is most/least prevalent?\n",
    "    -Where was there more crime?\n",
    "    -Where was there less crime?\n",
    "    -Where did most batteries occured? Show\n",
    "    -When did crimes occured? Show\n",
    "    -Is crime increasing or decreasing in time? Show"
   ]
  },
  {
   "cell_type": "code",
   "execution_count": 1,
   "metadata": {},
   "outputs": [],
   "source": [
    "import pandas as pd\n",
    "import folium\n",
    "import matplotlib.pyplot as plt\n",
    "%matplotlib inline\n",
    "import seaborn as sns\n",
    "import plotly.plotly as py"
   ]
  },
  {
   "cell_type": "code",
   "execution_count": 2,
   "metadata": {},
   "outputs": [],
   "source": [
    "csv = '/Users/nonoumasy/Downloads/data/LA_Crime_Data_from_2010_to_Present.csv'\n",
    "df = pd.read_csv(csv)"
   ]
  },
  {
   "cell_type": "code",
   "execution_count": null,
   "metadata": {},
   "outputs": [],
   "source": [
    "#clean the data\n",
    "df = df[['Date Occurred','Time Occurred', 'Area Name', 'Crime Code',\n",
    "         'Crime Code Description','Weapon Description', 'Address',\n",
    "        'Location ']]\n",
    "\n",
    "df.columns = df.columns.str.replace(' ', '_')  #replace blankspace with underscore\n",
    "\n",
    "df.columns = df.columns.str.lower()  #changes column names to lowercase"
   ]
  },
  {
   "cell_type": "code",
   "execution_count": 6,
   "metadata": {},
   "outputs": [
    {
     "data": {
      "text/html": [
       "<div>\n",
       "<style scoped>\n",
       "    .dataframe tbody tr th:only-of-type {\n",
       "        vertical-align: middle;\n",
       "    }\n",
       "\n",
       "    .dataframe tbody tr th {\n",
       "        vertical-align: top;\n",
       "    }\n",
       "\n",
       "    .dataframe thead th {\n",
       "        text-align: right;\n",
       "    }\n",
       "</style>\n",
       "<table border=\"1\" class=\"dataframe\">\n",
       "  <thead>\n",
       "    <tr style=\"text-align: right;\">\n",
       "      <th></th>\n",
       "      <th>date_occurred</th>\n",
       "      <th>time_occurred</th>\n",
       "      <th>area_name</th>\n",
       "      <th>crime_code</th>\n",
       "      <th>crime_code_description</th>\n",
       "      <th>weapon_description</th>\n",
       "      <th>address</th>\n",
       "      <th>location_</th>\n",
       "    </tr>\n",
       "  </thead>\n",
       "  <tbody>\n",
       "    <tr>\n",
       "      <th>0</th>\n",
       "      <td>01/16/2015</td>\n",
       "      <td>2130</td>\n",
       "      <td>Van Nuys</td>\n",
       "      <td>510</td>\n",
       "      <td>VEHICLE - STOLEN</td>\n",
       "      <td>NaN</td>\n",
       "      <td>6200    FULTON                       AV</td>\n",
       "      <td>(34.1814, -118.4263)</td>\n",
       "    </tr>\n",
       "    <tr>\n",
       "      <th>1</th>\n",
       "      <td>01/01/2015</td>\n",
       "      <td>230</td>\n",
       "      <td>Southeast</td>\n",
       "      <td>626</td>\n",
       "      <td>INTIMATE PARTNER - SIMPLE ASSAULT</td>\n",
       "      <td>STRONG-ARM (HANDS, FIST, FEET OR BODILY FORCE)</td>\n",
       "      <td>200 E  97TH                         ST</td>\n",
       "      <td>(33.9483, -118.2717)</td>\n",
       "    </tr>\n",
       "    <tr>\n",
       "      <th>2</th>\n",
       "      <td>10/01/2015</td>\n",
       "      <td>800</td>\n",
       "      <td>77th Street</td>\n",
       "      <td>805</td>\n",
       "      <td>PIMPING</td>\n",
       "      <td>NaN</td>\n",
       "      <td>FIGUEROA                     ST</td>\n",
       "      <td>(33.9807, -118.2827)</td>\n",
       "    </tr>\n",
       "    <tr>\n",
       "      <th>3</th>\n",
       "      <td>01/01/2015</td>\n",
       "      <td>40</td>\n",
       "      <td>Central</td>\n",
       "      <td>745</td>\n",
       "      <td>VANDALISM - MISDEAMEANOR ($399 OR UNDER)</td>\n",
       "      <td>NaN</td>\n",
       "      <td>HILL                         ST</td>\n",
       "      <td>(34.0591, -118.2412)</td>\n",
       "    </tr>\n",
       "    <tr>\n",
       "      <th>4</th>\n",
       "      <td>01/01/2015</td>\n",
       "      <td>240</td>\n",
       "      <td>Central</td>\n",
       "      <td>626</td>\n",
       "      <td>INTIMATE PARTNER - SIMPLE ASSAULT</td>\n",
       "      <td>STRONG-ARM (HANDS, FIST, FEET OR BODILY FORCE)</td>\n",
       "      <td>500 W  7TH                          ST</td>\n",
       "      <td>(34.0467, -118.2556)</td>\n",
       "    </tr>\n",
       "  </tbody>\n",
       "</table>\n",
       "</div>"
      ],
      "text/plain": [
       "  date_occurred  time_occurred    area_name  crime_code  \\\n",
       "0    01/16/2015           2130     Van Nuys         510   \n",
       "1    01/01/2015            230    Southeast         626   \n",
       "2    10/01/2015            800  77th Street         805   \n",
       "3    01/01/2015             40      Central         745   \n",
       "4    01/01/2015            240      Central         626   \n",
       "\n",
       "                     crime_code_description  \\\n",
       "0                          VEHICLE - STOLEN   \n",
       "1         INTIMATE PARTNER - SIMPLE ASSAULT   \n",
       "2                                   PIMPING   \n",
       "3  VANDALISM - MISDEAMEANOR ($399 OR UNDER)   \n",
       "4         INTIMATE PARTNER - SIMPLE ASSAULT   \n",
       "\n",
       "                               weapon_description  \\\n",
       "0                                             NaN   \n",
       "1  STRONG-ARM (HANDS, FIST, FEET OR BODILY FORCE)   \n",
       "2                                             NaN   \n",
       "3                                             NaN   \n",
       "4  STRONG-ARM (HANDS, FIST, FEET OR BODILY FORCE)   \n",
       "\n",
       "                                   address             location_  \n",
       "0  6200    FULTON                       AV  (34.1814, -118.4263)  \n",
       "1   200 E  97TH                         ST  (33.9483, -118.2717)  \n",
       "2          FIGUEROA                     ST  (33.9807, -118.2827)  \n",
       "3          HILL                         ST  (34.0591, -118.2412)  \n",
       "4   500 W  7TH                          ST  (34.0467, -118.2556)  "
      ]
     },
     "execution_count": 6,
     "metadata": {},
     "output_type": "execute_result"
    }
   ],
   "source": [
    "df.head()"
   ]
  },
  {
   "cell_type": "code",
   "execution_count": 36,
   "metadata": {},
   "outputs": [
    {
     "data": {
      "text/plain": [
       "BATTERY - SIMPLE ASSAULT              172969\n",
       "BURGLARY FROM VEHICLE                 146743\n",
       "VEHICLE - STOLEN                      145721\n",
       "BURGLARY                              135867\n",
       "THEFT PLAIN - PETTY ($950 & UNDER)    135333\n",
       "Name: crime_code_description, dtype: int64"
      ]
     },
     "execution_count": 36,
     "metadata": {},
     "output_type": "execute_result"
    }
   ],
   "source": [
    "#what type of crime is most prevalent?\n",
    "df.crime_code_description.value_counts()[:5]"
   ]
  },
  {
   "cell_type": "code",
   "execution_count": 38,
   "metadata": {},
   "outputs": [
    {
     "data": {
      "text/plain": [
       "TILL TAP - ATTEMPT                          3\n",
       "BLOCKING DOOR INDUCTION CENTER              3\n",
       "FIREARMS RESTRAINING ORDER (FIREARMS RO)    2\n",
       "TRAIN WRECKING                              2\n",
       "DRUNK ROLL - ATTEMPT                        1\n",
       "Name: crime_code_description, dtype: int64"
      ]
     },
     "execution_count": 38,
     "metadata": {},
     "output_type": "execute_result"
    }
   ],
   "source": [
    "#what type of crime is least prevalent?\n",
    "df.crime_code_description.value_counts()[-5:]"
   ]
  },
  {
   "cell_type": "code",
   "execution_count": 32,
   "metadata": {},
   "outputs": [
    {
     "data": {
      "text/plain": [
       "77th Street    131722\n",
       "Southwest      122674\n",
       "N Hollywood    103320\n",
       "Pacific        100906\n",
       "Southeast      100288\n",
       "Name: area_name, dtype: int64"
      ]
     },
     "execution_count": 32,
     "metadata": {},
     "output_type": "execute_result"
    }
   ],
   "source": [
    "#which areas have more crime?\n",
    "df.area_name.value_counts()[:5]"
   ]
  },
  {
   "cell_type": "code",
   "execution_count": 27,
   "metadata": {},
   "outputs": [
    {
     "data": {
      "text/plain": [
       "Rampart       80521\n",
       "West LA       80127\n",
       "Wilshire      78481\n",
       "Foothill      72360\n",
       "Hollenbeck    70000\n",
       "Name: area_name, dtype: int64"
      ]
     },
     "execution_count": 27,
     "metadata": {},
     "output_type": "execute_result"
    }
   ],
   "source": [
    "#which areas have less crime?\n",
    "df.area_name.value_counts()[-5:]"
   ]
  },
  {
   "cell_type": "code",
   "execution_count": null,
   "metadata": {},
   "outputs": [],
   "source": []
  }
 ],
 "metadata": {
  "kernelspec": {
   "display_name": "Python 3",
   "language": "python",
   "name": "python3"
  },
  "language_info": {
   "codemirror_mode": {
    "name": "ipython",
    "version": 3
   },
   "file_extension": ".py",
   "mimetype": "text/x-python",
   "name": "python",
   "nbconvert_exporter": "python",
   "pygments_lexer": "ipython3",
   "version": "3.6.6"
  },
  "toc": {
   "base_numbering": 1,
   "nav_menu": {},
   "number_sections": true,
   "sideBar": true,
   "skip_h1_title": false,
   "title_cell": "Table of Contents",
   "title_sidebar": "Contents",
   "toc_cell": false,
   "toc_position": {},
   "toc_section_display": true,
   "toc_window_display": false
  }
 },
 "nbformat": 4,
 "nbformat_minor": 2
}
