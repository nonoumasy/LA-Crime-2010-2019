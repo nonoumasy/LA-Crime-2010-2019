{
 "cells": [
  {
   "cell_type": "code",
   "execution_count": 1,
   "metadata": {
    "ExecuteTime": {
     "end_time": "2019-02-21T06:47:03.391975Z",
     "start_time": "2019-02-21T06:47:03.245932Z"
    }
   },
   "outputs": [
    {
     "ename": "NameError",
     "evalue": "name 'df' is not defined",
     "output_type": "error",
     "traceback": [
      "\u001b[0;31m---------------------------------------------------------------------------\u001b[0m",
      "\u001b[0;31mNameError\u001b[0m                                 Traceback (most recent call last)",
      "\u001b[0;32m<ipython-input-1-c42a15b2c7cf>\u001b[0m in \u001b[0;36m<module>\u001b[0;34m\u001b[0m\n\u001b[0;32m----> 1\u001b[0;31m \u001b[0mdf\u001b[0m\u001b[0;34m.\u001b[0m\u001b[0mhead\u001b[0m\u001b[0;34m(\u001b[0m\u001b[0;34m)\u001b[0m\u001b[0;34m\u001b[0m\u001b[0m\n\u001b[0m",
      "\u001b[0;31mNameError\u001b[0m: name 'df' is not defined"
     ]
    }
   ],
   "source": [
    "df.head()"
   ]
  },
  {
   "cell_type": "markdown",
   "metadata": {},
   "source": [
    "## Introduction\n",
    "\n",
    "This is an analysis of Los Angeles Crime Data. \n",
    "\n",
    "Time Period: 2015-2019\n",
    "\n",
    "Dataset source:\n",
    "https://data.lacity.org/A-Safe-City/Crime-Data-from-2010-to-Present/y8tr-7khq\n",
    "\n",
    "Hope to show some insights from the data including:\n",
    "\n",
    "    -What type of crime is most prevalent?\n",
    "    -What type of crime is least prevalent?\n",
    "    -Where was there more crime? Show on Map\n",
    "    -Where was there less crime? Show on Map\n",
    "    -Where did most batteries occured? Show on Map\n",
    "    -When did crimes occured? Show on Plot\n",
    "    -Show crime by area_name\n",
    "    \n",
    "    Lastly we want to show whether or not crime is increasing or decreasing in the city of Angels\n",
    "    -Is crime increasing or decreasing in time? Show on Plot"
   ]
  },
  {
   "cell_type": "code",
   "execution_count": 2,
   "metadata": {
    "ExecuteTime": {
     "end_time": "2019-02-21T06:47:13.373185Z",
     "start_time": "2019-02-21T06:47:07.988277Z"
    }
   },
   "outputs": [],
   "source": [
    "import os\n",
    "import pandas as pd\n",
    "import geopandas as gpd\n",
    "import folium\n",
    "import matplotlib.pyplot as plt\n",
    "import seaborn as sns\n",
    "import plotly.plotly as py\n",
    "import numpy as np\n",
    "from folium.plugins import HeatMap\n",
    "from folium.plugins import FastMarkerCluster\n",
    "from folium.plugins import MarkerCluster\n",
    "from pandas import datetime\n",
    "from IPython.display import Image\n",
    "\n",
    "%matplotlib inline"
   ]
  },
  {
   "cell_type": "code",
   "execution_count": 5,
   "metadata": {
    "ExecuteTime": {
     "end_time": "2019-02-21T06:54:07.602049Z",
     "start_time": "2019-02-21T06:53:50.124370Z"
    }
   },
   "outputs": [],
   "source": [
    "##Our cast of characters\n",
    "\n",
    "#crime data\n",
    "df = pd.read_csv('/Users/nonoumasy/Downloads/data/LA_Crime_Data_from_2010_to_Present.csv')\n"
   ]
  },
  {
   "cell_type": "code",
   "execution_count": 6,
   "metadata": {
    "ExecuteTime": {
     "end_time": "2019-02-21T07:03:18.003245Z",
     "start_time": "2019-02-21T06:54:11.234776Z"
    },
    "scrolled": true
   },
   "outputs": [],
   "source": [
    "##clean the data\n",
    "\n",
    "#keep only relevant columns\n",
    "df = df[['Date Occurred','Time Occurred','Area Name','Crime Code','Crime Code Description','Weapon Description','Address','Location ']]\n",
    "\n",
    "#column cleanup\n",
    "df.columns = df.columns.str.lower().str.replace('\\W+', '_').str.replace('(', '').str.replace(')', '')\n",
    "\n",
    "#convert location column str to float\n",
    "df.location_ = df.location_.astype(str).str.replace('(', '').str.replace(')', '').str.split(',').apply(lambda lst: [float(x.strip()) for x in lst])\n",
    "\n",
    "#cleanup time_occurred column\n",
    "df.time_occurred = df.time_occurred.astype(str).str.pad(width=4, fillchar='0').map(lambda a : a[:-2] + \":\" + a[-2:] )\n",
    "\n",
    "#combine date and time together\n",
    "combined = df.date_occurred.str.cat(df.time_occurred, sep=' ')\n",
    "\n",
    "#convert to datetime format\n",
    "df['datetime_series'] = pd.to_datetime(combined)\n",
    "\n",
    "#map weekday to weekday name\n",
    "df['weekday_name'] = df.datetime_series.dt.weekday_name\n",
    "\n"
   ]
  },
  {
   "cell_type": "code",
   "execution_count": 35,
   "metadata": {
    "ExecuteTime": {
     "end_time": "2019-02-21T08:07:25.690079Z",
     "start_time": "2019-02-21T08:07:25.672917Z"
    }
   },
   "outputs": [],
   "source": [
    "# %load /Users/nonoumasy/Downloads/data/crime_level.py\n",
    "felony_list = \\\n",
    "[\n",
    "'VEHICLE - STOLEN', \n",
    "'INTIMATE PARTNER - SIMPLE ASSAULT', \n",
    "'PIMPING', \n",
    "'INTIMATE PARTNER - AGGRAVATED ASSAULT', \n",
    "'THEFT-GRAND ($950.01 & OVER)EXCPT,GUNS,FOWL,LIVESTK,PROD',\n",
    "'BATTERY WITH SEXUAL CONTACT', \n",
    "'RAPE, FORCIBLE', 'ORAL COPULATION',\n",
    "'ASSAULT WITH DEADLY WEAPON, AGGRAVATED ASSAULT', \n",
    "'ROBBERY',\n",
    "'BATTERY - SIMPLE ASSAULT', \n",
    "'KIDNAPPING',\n",
    "'CHILD NEGLECT (SEE 300 W.I.C.)',\n",
    "'CRIMINAL THREATS - NO WEAPON DISPLAYED', \n",
    "'BRANDISH WEAPON',\n",
    "'PURSE SNATCHING', \n",
    "'BURGLARY', \n",
    "'BURGLARY FROM VEHICLE, ATTEMPTED',\n",
    "'OTHER ASSAULT',\n",
    "'SODOMY/SEXUAL CONTACT B/W PENIS OF ONE PERS TO ANUS OTH',\n",
    "'BURGLARY FROM VEHICLE', \n",
    "'BURGLARY, ATTEMPTED', \n",
    "'TRESPASSING',\n",
    "'ASSAULT WITH DEADLY WEAPON ON POLICE OFFICER', \n",
    "'CONSPIRACY',\n",
    "'BATTERY POLICE (SIMPLE)', \n",
    "'INDECENT EXPOSURE',\n",
    "'SHOPLIFTING-GRAND THEFT ($950.01 & OVER)',\n",
    "'CHILD ABUSE (PHYSICAL) - SIMPLE ASSAULT', \n",
    "'BOMB SCARE',\n",
    "'ATTEMPTED ROBBERY', \n",
    "'COUNTERFEIT',\n",
    "'EMBEZZLEMENT, GRAND THEFT ($950.01 & OVER)',\n",
    "'ARSON',\n",
    "'THEFT, PERSON', \n",
    "'CHILD ABUSE (PHYSICAL) - AGGRAVATED ASSAULT', \n",
    "'ILLEGAL DUMPING',\n",
    "'DEFRAUDING INNKEEPER/THEFT OF SERVICES, $400 & UNDER',\n",
    "'SHOTS FIRED AT MOVING VEHICLE, TRAIN OR AIRCRAFT',\n",
    "'RESISTING ARREST', \n",
    "'DISCHARGE FIREARMS/SHOTS FIRED',\n",
    "'THEFT OF IDENTITY', \n",
    "'LEWD CONDUCT',\n",
    "'THEFT FROM MOTOR VEHICLE - GRAND ($400 AND OVER)',\n",
    "'CRUELTY TO ANIMALS', \n",
    "'BUNCO, PETTY THEFT', \n",
    "'CRIMINAL HOMICIDE',\n",
    "'DOCUMENT FORGERY / STOLEN FELONY',\n",
    "'VIOLATION OF RESTRAINING ORDER', \n",
    "'BUNCO, GRAND THEFT',\n",
    "'LETTERS, LEWD  -  TELEPHONE CALLS, LEWD',\n",
    "'DRIVING WITHOUT OWNER CONSENT (DWOC)', \n",
    "'VIOLATION OF COURT ORDER',\n",
    "'THROWING OBJECT AT MOVING VEHICLE', \n",
    "'CONTEMPT OF COURT',\n",
    "'DEFRAUDING INNKEEPER/THEFT OF SERVICES, OVER $400',\n",
    "'FALSE IMPRISONMENT', \n",
    "'CHILD STEALING', 'BUNCO, ATTEMPT',\n",
    "'PEEPING TOM',\n",
    "'SEX,UNLAWFUL(INC MUTUAL CONSENT, PENETRATION W/ FRGN OBJ', \n",
    "'RAPE, ATTEMPTED',\n",
    "'EMBEZZLEMENT, PETTY THEFT ($950 & UNDER)', \n",
    "'EXTORTION',\n",
    "'CRM AGNST CHLD (13 OR UNDER) (14-15 & SUSP 10 YRS OLDER)',\n",
    "'UNAUTHORIZED COMPUTER ACCESS', \n",
    "'SHOPLIFTING - ATTEMPT',\n",
    "'SEXUAL PENETRATION W/FOREIGN OBJECT',\n",
    "'VIOLATION OF TEMPORARY RESTRAINING ORDER',\n",
    "'BATTERY ON A FIREFIGHTER', \n",
    "'THREATENING PHONE CALLS/LETTERS',\n",
    "'WEAPONS POSSESSION/BOMBING', \n",
    "'BIKE - ATTEMPTED STOLEN',\n",
    "'FALSE POLICE REPORT', \n",
    "'CREDIT CARDS, FRAUD USE ($950.01 & OVER)',\n",
    "'KIDNAPPING - GRAND ATTEMPT', \n",
    "'DRUGS, TO A MINOR',\n",
    "'CHILD ABANDONMENT',\n",
    "'DISHONEST EMPLOYEE - GRAND THEFT',\n",
    "'TILL TAP - GRAND THEFT ($950.01 & OVER)',\n",
    "'BEASTIALITY, CRIME AGAINST NATURE SEXUAL ASSLT WITH ANIM',\n",
    "'BOAT - STOLEN', \n",
    "'PETTY THEFT - AUTO REPAIR',\n",
    "'TILL TAP - PETTY ($950 & UNDER)',\n",
    "'DISHONEST EMPLOYEE ATTEMPTED THEFT',\n",
    "'INCEST (SEXUAL ACTS BETWEEN BLOOD RELATIVES)', \n",
    "'CONTRIBUTING',\n",
    "'PANDERING', \n",
    "'LEWD/LASCIVIOUS ACTS WITH CHILD', \n",
    "'BIGAMY',\n",
    "'REPLICA FIREARMS(SALE,DISPLAY,MANUFACTURE OR DISTRIBUTE)',\n",
    "'THEFT, COIN MACHINE - GRAND ($950.01 & OVER)', \n",
    "'BRIBERY',\n",
    "'GRAND THEFT / INSURANCE FRAUD',\n",
    "'HUMAN TRAFFICKING - COMMERCIAL SEX ACTS', \n",
    "'INCITING A RIOT',\n",
    "'LYNCHING', \n",
    "'CHILD PORNOGRAPHY', \n",
    "'LYNCHING - ATTEMPTED',\n",
    "'MANSLAUGHTER, NEGLIGENT', \n",
    "'GRAND THEFT / AUTO REPAIR',\n",
    "'HUMAN TRAFFICKING - INVOLUNTARY SERVITUDE',\n",
    "'TRAIN WRECKING', \n",
    "'TILL TAP - ATTEMPT',\n",
    "'FIREARMS RESTRAINING ORDER (FIREARMS RO)', \n",
    "]\n",
    "\n",
    "misdeamenors_list = \\\n",
    "[\n",
    "'VANDALISM - MISDEAMEANOR ($399 OR UNDER)',\n",
    "'SHOPLIFTING - PETTY THEFT ($950 & UNDER)',\n",
    "'THEFT, COIN MACHINE - ATTEMPT',\n",
    "'PICKPOCKET',\n",
    "'CHILD ANNOYING (17YRS & UNDER)',\n",
    "'BLOCKING DOOR INDUCTION CENTER',\n",
    "'ABORTION/ILLEGAL', \n",
    "'DOCUMENT WORTHLESS ($200.01 & OVER)',\n",
    "'FAILURE TO YIELD', \n",
    "'PROWLER', \n",
    "'TELEPHONE PROPERTY - DAMAGE',\n",
    "'PICKPOCKET, ATTEMPT', \n",
    "'FAILURE TO DISPERSE',\n",
    "'DISHONEST EMPLOYEE - PETTY THEFT',\n",
    "'DOCUMENT WORTHLESS ($200 & UNDER)',\n",
    "'PURSE SNATCHING - ATTEMPT',\n",
    "'THEFT PLAIN - ATTEMPT', \n",
    "'CREDIT CARDS, FRAUD USE ($950 & UNDER',\n",
    "'RECKLESS DRIVING', \n",
    "'VEHICLE - ATTEMPT STOLEN',\n",
    "'THEFT FROM PERSON - ATTEMPT',\n",
    "'SHOTS FIRED AT INHABITED DWELLING',\n",
    "'THEFT, COIN MACHINE - PETTY ($950 & UNDER)',\n",
    "'THEFT FROM MOTOR VEHICLE - ATTEMPT',\n",
    "'DISTURBING THE PEACE',\n",
    "'STALKING',\n",
    "'OTHER MISCELLANEOUS CRIME', \n",
    "'BIKE - STOLEN', \n",
    "'THEFT PLAIN - PETTY ($950 & UNDER)',\n",
    "'THEFT FROM MOTOR VEHICLE - PETTY ($950 & UNDER)',\n",
    "]\n",
    "\n",
    "\n",
    "offenses_list = \\\n",
    "[\n",
    "'VANDALISM - FELONY ($400 & OVER, ALL CHURCH VANDALISMS)', \n",
    "'DRUNK ROLL',\n",
    "'DRUNK ROLL - ATTEMPT',\n",
    "'DISRUPT SCHOOL', \n",
    "]\n"
   ]
  },
  {
   "cell_type": "code",
   "execution_count": 36,
   "metadata": {
    "ExecuteTime": {
     "end_time": "2019-02-21T08:07:27.266872Z",
     "start_time": "2019-02-21T08:07:26.827593Z"
    }
   },
   "outputs": [],
   "source": [
    "#create a dictionary from crime level lists\n",
    "d1 = dict.fromkeys(felony_list, 'felony')\n",
    "d2 = dict.fromkeys(misdeamenors_list, 'misdeamenors')\n",
    "d3 = dict.fromkeys(offenses_list, 'offenses')\n",
    "\n",
    "crime_level_dict = {**d1, **d2, **d3}\n",
    "\n",
    "#create crime level column from crime_level_dict\n",
    "df['crime_level'] = df.crime_code_description.map(crime_level_dict)"
   ]
  },
  {
   "cell_type": "code",
   "execution_count": 38,
   "metadata": {
    "ExecuteTime": {
     "end_time": "2019-02-21T08:07:42.227108Z",
     "start_time": "2019-02-21T08:07:42.085703Z"
    }
   },
   "outputs": [
    {
     "data": {
      "text/html": [
       "<div>\n",
       "<style scoped>\n",
       "    .dataframe tbody tr th:only-of-type {\n",
       "        vertical-align: middle;\n",
       "    }\n",
       "\n",
       "    .dataframe tbody tr th {\n",
       "        vertical-align: top;\n",
       "    }\n",
       "\n",
       "    .dataframe thead th {\n",
       "        text-align: right;\n",
       "    }\n",
       "</style>\n",
       "<table border=\"1\" class=\"dataframe\">\n",
       "  <thead>\n",
       "    <tr style=\"text-align: right;\">\n",
       "      <th></th>\n",
       "      <th>date_occurred</th>\n",
       "      <th>time_occurred</th>\n",
       "      <th>area_name</th>\n",
       "      <th>crime_code</th>\n",
       "      <th>crime_code_description</th>\n",
       "      <th>weapon_description</th>\n",
       "      <th>address</th>\n",
       "      <th>location_</th>\n",
       "      <th>datetime_series</th>\n",
       "      <th>weekday_name</th>\n",
       "      <th>crime_level</th>\n",
       "    </tr>\n",
       "  </thead>\n",
       "  <tbody>\n",
       "    <tr>\n",
       "      <th>1250343</th>\n",
       "      <td>01/13/2010</td>\n",
       "      <td>12:48</td>\n",
       "      <td>N Hollywood</td>\n",
       "      <td>341</td>\n",
       "      <td>THEFT-GRAND ($950.01 &amp; OVER)EXCPT,GUNS,FOWL,LI...</td>\n",
       "      <td>NaN</td>\n",
       "      <td>10800    BLOOMFIELD                   ST</td>\n",
       "      <td>[34.1493, -118.3652]</td>\n",
       "      <td>2010-01-13 12:48:00</td>\n",
       "      <td>Wednesday</td>\n",
       "      <td>felony</td>\n",
       "    </tr>\n",
       "    <tr>\n",
       "      <th>1372947</th>\n",
       "      <td>09/27/2011</td>\n",
       "      <td>14:30</td>\n",
       "      <td>Northeast</td>\n",
       "      <td>230</td>\n",
       "      <td>ASSAULT WITH DEADLY WEAPON, AGGRAVATED ASSAULT</td>\n",
       "      <td>KNIFE WITH BLADE 6INCHES OR LESS</td>\n",
       "      <td>600    UMBRIA                       ST</td>\n",
       "      <td>[34.1134, -118.1999]</td>\n",
       "      <td>2011-09-27 14:30:00</td>\n",
       "      <td>Tuesday</td>\n",
       "      <td>felony</td>\n",
       "    </tr>\n",
       "    <tr>\n",
       "      <th>1050107</th>\n",
       "      <td>09/24/2013</td>\n",
       "      <td>18:00</td>\n",
       "      <td>Rampart</td>\n",
       "      <td>624</td>\n",
       "      <td>BATTERY - SIMPLE ASSAULT</td>\n",
       "      <td>STRONG-ARM (HANDS, FIST, FEET OR BODILY FORCE)</td>\n",
       "      <td>300    LUCAS                        AV</td>\n",
       "      <td>[34.0583, -118.2616]</td>\n",
       "      <td>2013-09-24 18:00:00</td>\n",
       "      <td>Tuesday</td>\n",
       "      <td>felony</td>\n",
       "    </tr>\n",
       "    <tr>\n",
       "      <th>811303</th>\n",
       "      <td>03/08/2018</td>\n",
       "      <td>02:00</td>\n",
       "      <td>Rampart</td>\n",
       "      <td>434</td>\n",
       "      <td>FALSE IMPRISONMENT</td>\n",
       "      <td>NaN</td>\n",
       "      <td>600 S  ALVARADO                     ST</td>\n",
       "      <td>[34.0596, -118.2749]</td>\n",
       "      <td>2018-03-08 02:00:00</td>\n",
       "      <td>Thursday</td>\n",
       "      <td>felony</td>\n",
       "    </tr>\n",
       "    <tr>\n",
       "      <th>746956</th>\n",
       "      <td>12/25/2017</td>\n",
       "      <td>22:00</td>\n",
       "      <td>Devonshire</td>\n",
       "      <td>421</td>\n",
       "      <td>THEFT FROM MOTOR VEHICLE - ATTEMPT</td>\n",
       "      <td>NaN</td>\n",
       "      <td>16800    SAN FERNANDO MISSION         BL</td>\n",
       "      <td>[34.272, -118.4978]</td>\n",
       "      <td>2017-12-25 22:00:00</td>\n",
       "      <td>Monday</td>\n",
       "      <td>misdeamenors</td>\n",
       "    </tr>\n",
       "    <tr>\n",
       "      <th>377201</th>\n",
       "      <td>03/05/2016</td>\n",
       "      <td>19:00</td>\n",
       "      <td>Hollenbeck</td>\n",
       "      <td>440</td>\n",
       "      <td>THEFT PLAIN - PETTY ($950 &amp; UNDER)</td>\n",
       "      <td>NaN</td>\n",
       "      <td>3100    WYNWOOD                      LN</td>\n",
       "      <td>[34.0234, -118.2101]</td>\n",
       "      <td>2016-03-05 19:00:00</td>\n",
       "      <td>Saturday</td>\n",
       "      <td>misdeamenors</td>\n",
       "    </tr>\n",
       "    <tr>\n",
       "      <th>1026590</th>\n",
       "      <td>01/18/2019</td>\n",
       "      <td>13:15</td>\n",
       "      <td>Pacific</td>\n",
       "      <td>440</td>\n",
       "      <td>THEFT PLAIN - PETTY ($950 &amp; UNDER)</td>\n",
       "      <td>NaN</td>\n",
       "      <td>5700 W  CENTURY                      BL</td>\n",
       "      <td>[33.9526, -118.3823]</td>\n",
       "      <td>2019-01-18 13:15:00</td>\n",
       "      <td>Friday</td>\n",
       "      <td>misdeamenors</td>\n",
       "    </tr>\n",
       "    <tr>\n",
       "      <th>1270152</th>\n",
       "      <td>06/27/2010</td>\n",
       "      <td>12:00</td>\n",
       "      <td>Olympic</td>\n",
       "      <td>510</td>\n",
       "      <td>VEHICLE - STOLEN</td>\n",
       "      <td>NaN</td>\n",
       "      <td>900 S  WILTON                       PL</td>\n",
       "      <td>[34.0539, -118.3144]</td>\n",
       "      <td>2010-06-27 12:00:00</td>\n",
       "      <td>Sunday</td>\n",
       "      <td>felony</td>\n",
       "    </tr>\n",
       "    <tr>\n",
       "      <th>1779161</th>\n",
       "      <td>04/04/2014</td>\n",
       "      <td>13:00</td>\n",
       "      <td>Van Nuys</td>\n",
       "      <td>310</td>\n",
       "      <td>BURGLARY</td>\n",
       "      <td>NaN</td>\n",
       "      <td>13700    VANOWEN                      ST</td>\n",
       "      <td>[34.194, -118.4312]</td>\n",
       "      <td>2014-04-04 13:00:00</td>\n",
       "      <td>Friday</td>\n",
       "      <td>felony</td>\n",
       "    </tr>\n",
       "    <tr>\n",
       "      <th>199832</th>\n",
       "      <td>06/17/2015</td>\n",
       "      <td>12:00</td>\n",
       "      <td>N Hollywood</td>\n",
       "      <td>354</td>\n",
       "      <td>THEFT OF IDENTITY</td>\n",
       "      <td>NaN</td>\n",
       "      <td>6500    KRAFT                        AV</td>\n",
       "      <td>[34.1886, -118.3801]</td>\n",
       "      <td>2015-06-17 12:00:00</td>\n",
       "      <td>Wednesday</td>\n",
       "      <td>felony</td>\n",
       "    </tr>\n",
       "  </tbody>\n",
       "</table>\n",
       "</div>"
      ],
      "text/plain": [
       "        date_occurred time_occurred    area_name  crime_code  \\\n",
       "1250343    01/13/2010         12:48  N Hollywood         341   \n",
       "1372947    09/27/2011         14:30    Northeast         230   \n",
       "1050107    09/24/2013         18:00      Rampart         624   \n",
       "811303     03/08/2018         02:00      Rampart         434   \n",
       "746956     12/25/2017         22:00   Devonshire         421   \n",
       "377201     03/05/2016         19:00   Hollenbeck         440   \n",
       "1026590    01/18/2019         13:15      Pacific         440   \n",
       "1270152    06/27/2010         12:00      Olympic         510   \n",
       "1779161    04/04/2014         13:00     Van Nuys         310   \n",
       "199832     06/17/2015         12:00  N Hollywood         354   \n",
       "\n",
       "                                    crime_code_description  \\\n",
       "1250343  THEFT-GRAND ($950.01 & OVER)EXCPT,GUNS,FOWL,LI...   \n",
       "1372947     ASSAULT WITH DEADLY WEAPON, AGGRAVATED ASSAULT   \n",
       "1050107                           BATTERY - SIMPLE ASSAULT   \n",
       "811303                                  FALSE IMPRISONMENT   \n",
       "746956                  THEFT FROM MOTOR VEHICLE - ATTEMPT   \n",
       "377201                  THEFT PLAIN - PETTY ($950 & UNDER)   \n",
       "1026590                 THEFT PLAIN - PETTY ($950 & UNDER)   \n",
       "1270152                                   VEHICLE - STOLEN   \n",
       "1779161                                           BURGLARY   \n",
       "199832                                   THEFT OF IDENTITY   \n",
       "\n",
       "                                     weapon_description  \\\n",
       "1250343                                             NaN   \n",
       "1372947                KNIFE WITH BLADE 6INCHES OR LESS   \n",
       "1050107  STRONG-ARM (HANDS, FIST, FEET OR BODILY FORCE)   \n",
       "811303                                              NaN   \n",
       "746956                                              NaN   \n",
       "377201                                              NaN   \n",
       "1026590                                             NaN   \n",
       "1270152                                             NaN   \n",
       "1779161                                             NaN   \n",
       "199832                                              NaN   \n",
       "\n",
       "                                          address             location_  \\\n",
       "1250343  10800    BLOOMFIELD                   ST  [34.1493, -118.3652]   \n",
       "1372947    600    UMBRIA                       ST  [34.1134, -118.1999]   \n",
       "1050107    300    LUCAS                        AV  [34.0583, -118.2616]   \n",
       "811303     600 S  ALVARADO                     ST  [34.0596, -118.2749]   \n",
       "746956   16800    SAN FERNANDO MISSION         BL   [34.272, -118.4978]   \n",
       "377201    3100    WYNWOOD                      LN  [34.0234, -118.2101]   \n",
       "1026590   5700 W  CENTURY                      BL  [33.9526, -118.3823]   \n",
       "1270152    900 S  WILTON                       PL  [34.0539, -118.3144]   \n",
       "1779161  13700    VANOWEN                      ST   [34.194, -118.4312]   \n",
       "199832    6500    KRAFT                        AV  [34.1886, -118.3801]   \n",
       "\n",
       "            datetime_series weekday_name   crime_level  \n",
       "1250343 2010-01-13 12:48:00    Wednesday        felony  \n",
       "1372947 2011-09-27 14:30:00      Tuesday        felony  \n",
       "1050107 2013-09-24 18:00:00      Tuesday        felony  \n",
       "811303  2018-03-08 02:00:00     Thursday        felony  \n",
       "746956  2017-12-25 22:00:00       Monday  misdeamenors  \n",
       "377201  2016-03-05 19:00:00     Saturday  misdeamenors  \n",
       "1026590 2019-01-18 13:15:00       Friday  misdeamenors  \n",
       "1270152 2010-06-27 12:00:00       Sunday        felony  \n",
       "1779161 2014-04-04 13:00:00       Friday        felony  \n",
       "199832  2015-06-17 12:00:00    Wednesday        felony  "
      ]
     },
     "execution_count": 38,
     "metadata": {},
     "output_type": "execute_result"
    }
   ],
   "source": [
    "df.sample(10)"
   ]
  },
  {
   "cell_type": "markdown",
   "metadata": {},
   "source": [
    "## Conflict"
   ]
  },
  {
   "cell_type": "code",
   "execution_count": 40,
   "metadata": {
    "ExecuteTime": {
     "end_time": "2019-02-21T06:28:42.547470Z",
     "start_time": "2019-02-21T06:28:42.031661Z"
    }
   },
   "outputs": [
    {
     "data": {
      "text/plain": [
       "BATTERY - SIMPLE ASSAULT              172969\n",
       "BURGLARY FROM VEHICLE                 146743\n",
       "VEHICLE - STOLEN                      145721\n",
       "BURGLARY                              135867\n",
       "THEFT PLAIN - PETTY ($950 & UNDER)    135333\n",
       "Name: crime_code_description, dtype: int64"
      ]
     },
     "execution_count": 40,
     "metadata": {},
     "output_type": "execute_result"
    }
   ],
   "source": [
    "#what type of crime is most prevalent?\n",
    "df.crime_code_description.value_counts()[:5]"
   ]
  },
  {
   "cell_type": "code",
   "execution_count": 10,
   "metadata": {},
   "outputs": [
    {
     "data": {
      "text/plain": [
       "BLOCKING DOOR INDUCTION CENTER              3\n",
       "TILL TAP - ATTEMPT                          3\n",
       "TRAIN WRECKING                              2\n",
       "FIREARMS RESTRAINING ORDER (FIREARMS RO)    2\n",
       "DRUNK ROLL - ATTEMPT                        1\n",
       "Name: crime_code_description, dtype: int64"
      ]
     },
     "execution_count": 10,
     "metadata": {},
     "output_type": "execute_result"
    }
   ],
   "source": [
    "#what type of crime is least prevalent?\n",
    "df.crime_code_description.value_counts()[-5:]"
   ]
  },
  {
   "cell_type": "code",
   "execution_count": 11,
   "metadata": {},
   "outputs": [
    {
     "data": {
      "text/plain": [
       "77th Street    131722\n",
       "Southwest      122674\n",
       "N Hollywood    103320\n",
       "Pacific        100906\n",
       "Southeast      100288\n",
       "Name: area_name, dtype: int64"
      ]
     },
     "execution_count": 11,
     "metadata": {},
     "output_type": "execute_result"
    }
   ],
   "source": [
    "#where was there most crime?\n",
    "df.area_name.value_counts()[:5]"
   ]
  },
  {
   "cell_type": "code",
   "execution_count": 62,
   "metadata": {},
   "outputs": [
    {
     "data": {
      "text/plain": [
       "Rampart       80521\n",
       "West LA       80127\n",
       "Wilshire      78481\n",
       "Foothill      72360\n",
       "Hollenbeck    70000\n",
       "Name: area_name, dtype: int64"
      ]
     },
     "execution_count": 62,
     "metadata": {},
     "output_type": "execute_result"
    }
   ],
   "source": [
    "#where was there least crime?\n",
    "df.area_name.value_counts()[-5:]"
   ]
  },
  {
   "cell_type": "code",
   "execution_count": 102,
   "metadata": {},
   "outputs": [
    {
     "data": {
      "text/plain": [
       "77th Street    13978\n",
       "Central        12978\n",
       "Southwest      12957\n",
       "Southeast      10503\n",
       "Olympic        10006\n",
       "Hollywood       9520\n",
       "Newton          9043\n",
       "Rampart         8593\n",
       "Mission         8244\n",
       "N Hollywood     7728\n",
       "Pacific         7457\n",
       "Hollenbeck      7316\n",
       "Van Nuys        6741\n",
       "Northeast       6697\n",
       "Wilshire        6342\n",
       "Harbor          6315\n",
       "Topanga         6199\n",
       "West LA         6007\n",
       "Devonshire      5845\n",
       "West Valley     5405\n",
       "Foothill        5095\n",
       "Name: area_name, dtype: int64"
      ]
     },
     "execution_count": 102,
     "metadata": {},
     "output_type": "execute_result"
    }
   ],
   "source": [
    "#Where did most BATTERY - SIMPLE ASSAULT occured?\n",
    "df[df.crime_code_description == 'BATTERY - SIMPLE ASSAULT'].area_name.value_counts()[:]"
   ]
  },
  {
   "cell_type": "markdown",
   "metadata": {},
   "source": [
    "#map of LAPD Divisional Map.\n",
    "some text\n",
    "\n",
    "![Image of Yaktocat](http://www.lapdwilshire.com/uploads/3/0/7/1/30711601/6222770.jpg?816)"
   ]
  },
  {
   "cell_type": "code",
   "execution_count": 20,
   "metadata": {
    "ExecuteTime": {
     "end_time": "2019-02-21T00:09:40.665961Z",
     "start_time": "2019-02-21T00:09:40.647182Z"
    }
   },
   "outputs": [],
   "source": [
    "import branca.colormap as cm"
   ]
  },
  {
   "cell_type": "code",
   "execution_count": 22,
   "metadata": {
    "ExecuteTime": {
     "end_time": "2019-02-21T00:09:53.748648Z",
     "start_time": "2019-02-21T00:09:53.742524Z"
    }
   },
   "outputs": [],
   "source": [
    "cm.linear.OrRd_09"
   ]
  },
  {
   "cell_type": "code",
   "execution_count": 24,
   "metadata": {
    "ExecuteTime": {
     "end_time": "2019-02-21T00:10:23.623051Z",
     "start_time": "2019-02-21T00:10:22.990926Z"
    }
   },
   "outputs": [
    {
     "data": {
      "text/plain": [
       "<matplotlib.axes._subplots.AxesSubplot at 0x1a3ed68b70>"
      ]
     },
     "execution_count": 24,
     "metadata": {},
     "output_type": "execute_result"
    },
    {
     "data": {
      "image/png": "[encoded data removed]",
      "text/plain": [
       "<Figure size 1152x1152 with 1 Axes>"
      ]
     },
     "metadata": {
      "needs_background": "light"
     },
     "output_type": "display_data"
    }
   ],
   "source": [
    "gdf.plot(figsize=(16,16), cmap='winter_r', scheme='quantiles')"
   ]
  },
  {
   "cell_type": "code",
   "execution_count": 44,
   "metadata": {
    "ExecuteTime": {
     "end_time": "2019-02-21T06:29:42.743357Z",
     "start_time": "2019-02-21T06:29:42.500808Z"
    },
    "scrolled": false
   },
   "outputs": [],
   "source": [
    "#filter Northeast dataframe\n",
    "df_northeast = df[df.area_name == 'Northeast']"
   ]
  },
  {
   "cell_type": "code",
   "execution_count": null,
   "metadata": {
    "ExecuteTime": {
     "start_time": "2019-02-21T06:36:44.000Z"
    },
    "scrolled": false
   },
   "outputs": [],
   "source": [
    "#map of crime in LA\n",
    "m = folium.Map(location=[34.0582838, -118.3221608], tiles='stamentoner', zoom_start=11)\n",
    "mc = MarkerCluster().add_to(m)\n",
    "\n",
    "popup_string = str(df.datetime_series) + \" \" + df.crime_code_description\n",
    "folium.CircleMarker(location=[df.location[0:100]], number_of_sides=4, popup=popup_string, radius=6).add_to(mc)\n",
    "\n",
    "#folium.CircleMarker(df, radius=10, ).add_to(m)\n",
    "\n",
    "FastMarkerCluster(df.location_, callback=None)\n",
    "\n",
    "folium.plugins.Fullscreen(position='bottomright').add_to(m)\n",
    "\n",
    "folium.map.LayerControl().add_to(m)\n",
    "#folium.map.Layer(name=\"temp\").add_to(m)\n",
    "            \n",
    "#m.save('/Users/nonoumasy/Desktop/crime_map.html')\n",
    "m.save('/Users/nonoumasy/Desktop/northeast.html')\n",
    "m\n",
    "\n",
    "#sends an sms once this cell finishes executing\n",
    "#os.system('python send_sms.py')"
   ]
  },
  {
   "cell_type": "code",
   "execution_count": 18,
   "metadata": {},
   "outputs": [
    {
     "data": {
      "text/plain": [
       "Friday       293485\n",
       "Monday       271685\n",
       "Saturday     274028\n",
       "Sunday       262138\n",
       "Thursday     268350\n",
       "Tuesday      266788\n",
       "Wednesday    270051\n",
       "Name: weekday_name, dtype: int64"
      ]
     },
     "execution_count": 18,
     "metadata": {},
     "output_type": "execute_result"
    }
   ],
   "source": [
    "#When did most crimes occured in terms of days of the week?\n",
    "df.weekday_name.value_counts().sort_index()"
   ]
  },
  {
   "cell_type": "code",
   "execution_count": 19,
   "metadata": {},
   "outputs": [
    {
     "data": {
      "text/plain": [
       "<matplotlib.axes._subplots.AxesSubplot at 0x1a42dd5780>"
      ]
     },
     "execution_count": 19,
     "metadata": {},
     "output_type": "execute_result"
    },
    {
     "data": {
      "image/png": "[encoded data removed]",
      "text/plain": [
       "<Figure size 432x288 with 1 Axes>"
      ]
     },
     "metadata": {
      "needs_background": "light"
     },
     "output_type": "display_data"
    }
   ],
   "source": [
    "#When did most crimes occured in terms of days of the week?\n",
    "df.weekday_name.value_counts().plot()"
   ]
  },
  {
   "cell_type": "code",
   "execution_count": 20,
   "metadata": {},
   "outputs": [
    {
     "data": {
      "text/plain": [
       "2010-01-01 12:00:00    556\n",
       "2011-01-01 12:00:00    517\n",
       "2012-01-01 12:00:00    428\n",
       "2011-01-01 00:01:00    383\n",
       "2013-01-01 12:00:00    356\n",
       "Name: datetime_series, dtype: int64"
      ]
     },
     "execution_count": 20,
     "metadata": {},
     "output_type": "execute_result"
    }
   ],
   "source": [
    "#When did crimes occured in terms of specific days?\n",
    "df.datetime_series.value_counts()[0:5]"
   ]
  },
  {
   "cell_type": "markdown",
   "metadata": {},
   "source": [
    "## Climax"
   ]
  },
  {
   "cell_type": "code",
   "execution_count": 22,
   "metadata": {},
   "outputs": [
    {
     "data": {
      "text/plain": [
       "2010    208753\n",
       "2011    200384\n",
       "2012    201094\n",
       "2013    192128\n",
       "2014    194903\n",
       "2015    214686\n",
       "2016    224445\n",
       "2017    229531\n",
       "2018    224745\n",
       "Name: datetime_series, dtype: int64"
      ]
     },
     "execution_count": 22,
     "metadata": {},
     "output_type": "execute_result"
    }
   ],
   "source": [
    "#Is crime increasing or decreasing in time?\n",
    "df.datetime_series.dt.year.value_counts().sort_index()[0:9]"
   ]
  },
  {
   "cell_type": "code",
   "execution_count": 38,
   "metadata": {},
   "outputs": [
    {
     "data": {
      "text/plain": [
       "Text(0.5, 1.0, 'Is Crime going up or down in the city of Angels?')"
      ]
     },
     "execution_count": 38,
     "metadata": {},
     "output_type": "execute_result"
    },
    {
     "data": {
      "image/png": "[encoded data removed]",
      "text/plain": [
       "<Figure size 432x288 with 1 Axes>"
      ]
     },
     "metadata": {
      "needs_background": "light"
     },
     "output_type": "display_data"
    }
   ],
   "source": [
    "#Is crime increasing or decreasing in time? Show\n",
    "trend = df.datetime_series.dt.year.value_counts().sort_index()[0:9]\n",
    "plt.plot(trend, linewidth=3, color='red')\n",
    "plt.axhline(y=0)\n",
    "plt.title('Is Crime going up or down in the city of Angels?')"
   ]
  },
  {
   "cell_type": "markdown",
   "metadata": {},
   "source": [
    "## Resolution"
   ]
  },
  {
   "cell_type": "code",
   "execution_count": null,
   "metadata": {},
   "outputs": [],
   "source": []
  },
  {
   "cell_type": "code",
   "execution_count": null,
   "metadata": {},
   "outputs": [],
   "source": []
  },
  {
   "cell_type": "markdown",
   "metadata": {},
   "source": [
    "## References used\n",
    "LAPD Crime \n",
    "http://www.lapdonline.org/inside_the_lapd/content_basic_view/27333\n",
    "Crime Classification Grouping:\n",
    "https://www.nap.edu/read/23492/chapter/7#128"
   ]
  },
  {
   "cell_type": "code",
   "execution_count": null,
   "metadata": {},
   "outputs": [],
   "source": []
  }
 ],
 "metadata": {
  "kernelspec": {
   "display_name": "Python 3",
   "language": "python",
   "name": "python3"
  },
  "language_info": {
   "codemirror_mode": {
    "name": "ipython",
    "version": 3
   },
   "file_extension": ".py",
   "mimetype": "text/x-python",
   "name": "python",
   "nbconvert_exporter": "python",
   "pygments_lexer": "ipython3",
   "version": "3.6.6"
  },
  "toc": {
   "base_numbering": 1,
   "nav_menu": {},
   "number_sections": true,
   "sideBar": true,
   "skip_h1_title": false,
   "title_cell": "Table of Contents",
   "title_sidebar": "Contents",
   "toc_cell": false,
   "toc_position": {},
   "toc_section_display": true,
   "toc_window_display": false
  }
 },
 "nbformat": 4,
 "nbformat_minor": 2
}
